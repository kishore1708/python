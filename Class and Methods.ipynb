{
 "cells": [
  {
   "cell_type": "code",
   "execution_count": 76,
   "id": "e1cb226b",
   "metadata": {},
   "outputs": [],
   "source": [
    "class Dog:\n",
    "    #Class level attribute\n",
    "    species='canine'\n",
    "    \n",
    "    def __init__(self,name,age,coat_color):#Instance attribute\n",
    "        self.name=name\n",
    "        self.age=age\n",
    "        self.coat_color=coat_color\n",
    "    \n",
    "    def __str__(self):\n",
    "        return f\"{self.name} is {self.age} old\"\n",
    "    \n",
    "    def speak(self,speak):\n",
    "        return f\"{self.name} says {speak}\""
   ]
  },
  {
   "cell_type": "code",
   "execution_count": 85,
   "id": "411abb2b",
   "metadata": {},
   "outputs": [],
   "source": [
    "#inheritance\n",
    "class Bulldog(Dog):\n",
    "    def speak(self,speak='bow'):\n",
    "        return super().speak(speak)\n",
    "\n",
    "class RussellTerrier(Dog):\n",
    "    pass"
   ]
  },
  {
   "cell_type": "code",
   "execution_count": 68,
   "id": "1864afe5",
   "metadata": {},
   "outputs": [],
   "source": [
    "dog1=Bulldog('tommy',10,'Boss')\n",
    "dog2=RussellTerrier('Russel',11,'YOO')"
   ]
  },
  {
   "cell_type": "code",
   "execution_count": 87,
   "id": "196bece8",
   "metadata": {},
   "outputs": [
    {
     "data": {
      "text/plain": [
       "'tig says hk'"
      ]
     },
     "execution_count": 87,
     "metadata": {},
     "output_type": "execute_result"
    }
   ],
   "source": [
    "new=Bulldog('tig',10,'vv')\n",
    "new.speak(speak='hk')"
   ]
  },
  {
   "cell_type": "code",
   "execution_count": null,
   "id": "78695cac",
   "metadata": {},
   "outputs": [],
   "source": []
  },
  {
   "cell_type": "code",
   "execution_count": 72,
   "id": "3c919870",
   "metadata": {},
   "outputs": [
    {
     "data": {
      "text/plain": [
       "'Russel says ss'"
      ]
     },
     "execution_count": 72,
     "metadata": {},
     "output_type": "execute_result"
    }
   ],
   "source": [
    "dog2.speak('ss')"
   ]
  },
  {
   "cell_type": "code",
   "execution_count": 75,
   "id": "1fc5016b",
   "metadata": {},
   "outputs": [
    {
     "data": {
      "text/plain": [
       "False"
      ]
     },
     "execution_count": 75,
     "metadata": {},
     "output_type": "execute_result"
    }
   ],
   "source": [
    "isinstance(dog1,RussellTerrier)"
   ]
  },
  {
   "cell_type": "code",
   "execution_count": null,
   "id": "51a78b48",
   "metadata": {},
   "outputs": [],
   "source": []
  },
  {
   "cell_type": "code",
   "execution_count": 34,
   "id": "09be367d",
   "metadata": {},
   "outputs": [],
   "source": [
    "a=Dog('tommy',10,'Boss')"
   ]
  },
  {
   "cell_type": "code",
   "execution_count": 9,
   "id": "0e5bee8c",
   "metadata": {},
   "outputs": [
    {
     "name": "stdout",
     "output_type": "stream",
     "text": [
      "tommy\n",
      "10\n",
      "canine\n"
     ]
    }
   ],
   "source": [
    "print(a.name)\n",
    "print(a.age)\n",
    "print(a.species)"
   ]
  },
  {
   "cell_type": "code",
   "execution_count": 10,
   "id": "56ca6f4e",
   "metadata": {},
   "outputs": [],
   "source": [
    "a.age=20"
   ]
  },
  {
   "cell_type": "code",
   "execution_count": 11,
   "id": "68b69861",
   "metadata": {},
   "outputs": [
    {
     "name": "stdout",
     "output_type": "stream",
     "text": [
      "tommy\n",
      "20\n",
      "canine\n"
     ]
    }
   ],
   "source": [
    "print(a.name)\n",
    "print(a.age)\n",
    "print(a.species)"
   ]
  },
  {
   "cell_type": "code",
   "execution_count": 25,
   "id": "e479cdbb",
   "metadata": {},
   "outputs": [
    {
     "name": "stdout",
     "output_type": "stream",
     "text": [
      "tommy is 10 old\n"
     ]
    }
   ],
   "source": [
    "print(a)"
   ]
  },
  {
   "cell_type": "code",
   "execution_count": 37,
   "id": "0179698c",
   "metadata": {},
   "outputs": [
    {
     "data": {
      "text/plain": [
       "'Boss'"
      ]
     },
     "execution_count": 37,
     "metadata": {},
     "output_type": "execute_result"
    }
   ],
   "source": [
    "a.owner"
   ]
  },
  {
   "cell_type": "code",
   "execution_count": 41,
   "id": "b1c0318d",
   "metadata": {},
   "outputs": [
    {
     "name": "stdout",
     "output_type": "stream",
     "text": [
      "Philo's coat is brown.\n"
     ]
    }
   ],
   "source": [
    "philo = Dog(\"Philo\", 5, \"brown\")\n",
    "print(f\"{philo.name}'s coat is {philo.coat_color}.\")"
   ]
  },
  {
   "cell_type": "code",
   "execution_count": 52,
   "id": "7fa4623f",
   "metadata": {},
   "outputs": [],
   "source": [
    "class Car:\n",
    "    def __init__(self,color,mileage):\n",
    "        self.color=color\n",
    "        self.mileage=mileage\n",
    "    \n",
    "    def __str__(self):\n",
    "        return f\"The {self.color} car has {self.mileage} miles\"\n",
    "    \n",
    "    def drive(self,a):\n",
    "        return self.mileage+a"
   ]
  },
  {
   "cell_type": "code",
   "execution_count": 57,
   "id": "a5f44159",
   "metadata": {},
   "outputs": [],
   "source": [
    "blue=Car('blue',0)\n",
    "red=Car('red',30000)"
   ]
  },
  {
   "cell_type": "code",
   "execution_count": 48,
   "id": "9e2b555a",
   "metadata": {},
   "outputs": [
    {
     "name": "stdout",
     "output_type": "stream",
     "text": [
      "The red car has 30000 mileage\n"
     ]
    }
   ],
   "source": [
    "print(red)"
   ]
  },
  {
   "cell_type": "code",
   "execution_count": 58,
   "id": "b2d9cd76",
   "metadata": {},
   "outputs": [
    {
     "data": {
      "text/plain": [
       "100"
      ]
     },
     "execution_count": 58,
     "metadata": {},
     "output_type": "execute_result"
    }
   ],
   "source": [
    "blue.drive(100)"
   ]
  },
  {
   "cell_type": "code",
   "execution_count": 60,
   "id": "8e6890d8",
   "metadata": {},
   "outputs": [],
   "source": [
    "blue.mileage=blue.drive(100)"
   ]
  },
  {
   "cell_type": "code",
   "execution_count": 61,
   "id": "8d891674",
   "metadata": {},
   "outputs": [
    {
     "name": "stdout",
     "output_type": "stream",
     "text": [
      "100\n"
     ]
    }
   ],
   "source": [
    "print(blue.mileage)"
   ]
  },
  {
   "cell_type": "code",
   "execution_count": null,
   "id": "1d63101c",
   "metadata": {},
   "outputs": [],
   "source": [
    "### Rectangle and square"
   ]
  },
  {
   "cell_type": "code",
   "execution_count": 110,
   "id": "da7e7547",
   "metadata": {},
   "outputs": [],
   "source": [
    "class Rectangle:\n",
    "    \n",
    "    def __init__(self,length,width):\n",
    "        self.length=length\n",
    "        self.width=width\n",
    "        \n",
    "    def area(self):\n",
    "        return self.length*self.width\n",
    "    \n",
    "    "
   ]
  },
  {
   "cell_type": "code",
   "execution_count": 111,
   "id": "2a18cf2f",
   "metadata": {},
   "outputs": [],
   "source": [
    "class Square(Rectangle):\n",
    "    def __init__(self,length):\n",
    "        super().__init__(length,length)\n",
    "        \n",
    "    "
   ]
  },
  {
   "cell_type": "code",
   "execution_count": 116,
   "id": "88b133b4",
   "metadata": {},
   "outputs": [
    {
     "name": "stdout",
     "output_type": "stream",
     "text": [
      "16\n"
     ]
    }
   ],
   "source": [
    "sq=Square(4)\n",
    "print(sq.area())"
   ]
  },
  {
   "cell_type": "code",
   "execution_count": 117,
   "id": "65586766",
   "metadata": {},
   "outputs": [
    {
     "name": "stdout",
     "output_type": "stream",
     "text": [
      "12\n"
     ]
    }
   ],
   "source": [
    "rect=Rectangle(4,3)\n",
    "print(rect.area())"
   ]
  },
  {
   "cell_type": "code",
   "execution_count": null,
   "id": "1a32bd3c",
   "metadata": {},
   "outputs": [],
   "source": []
  },
  {
   "cell_type": "code",
   "execution_count": null,
   "id": "ac38c956",
   "metadata": {},
   "outputs": [],
   "source": []
  }
 ],
 "metadata": {
  "kernelspec": {
   "display_name": "Python 3 (ipykernel)",
   "language": "python",
   "name": "python3"
  },
  "language_info": {
   "codemirror_mode": {
    "name": "ipython",
    "version": 3
   },
   "file_extension": ".py",
   "mimetype": "text/x-python",
   "name": "python",
   "nbconvert_exporter": "python",
   "pygments_lexer": "ipython3",
   "version": "3.9.7"
  }
 },
 "nbformat": 4,
 "nbformat_minor": 5
}
